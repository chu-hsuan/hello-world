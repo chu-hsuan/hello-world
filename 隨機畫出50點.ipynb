import numpy as np
import matplotlib.pyplot as pt
n = 50
x = np.random.rand(n)
y = np.random.rand(n)
pt.scatter(x,y) 
pt.show()
